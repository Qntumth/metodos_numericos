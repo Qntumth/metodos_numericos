{
  "nbformat": 4,
  "nbformat_minor": 0,
  "metadata": {
    "colab": {
      "name": "Métodos_Interativos_JJQB.ipynb",
      "provenance": [],
      "collapsed_sections": [],
      "authorship_tag": "ABX9TyMsfBa+w5Nauym57USgkMtr",
      "include_colab_link": true
    },
    "kernelspec": {
      "display_name": "Python 3",
      "name": "python3"
    },
    "language_info": {
      "name": "python"
    }
  },
  "cells": [
    {
      "cell_type": "markdown",
      "metadata": {
        "id": "view-in-github",
        "colab_type": "text"
      },
      "source": [
        "<a href=\"https://colab.research.google.com/github/Qntumth/metodos_numericos/blob/main/M%C3%A9todos_Interativos_JJQB.ipynb\" target=\"_parent\"><img src=\"https://colab.research.google.com/assets/colab-badge.svg\" alt=\"Open In Colab\"/></a>"
      ]
    },
    {
      "cell_type": "markdown",
      "metadata": {
        "id": "NmUBFZAlNOLd"
      },
      "source": [
        "#Metodos Iterativos.\n",
        "####Sistemas de ecuaciones lineales.\n",
        "---\n",
        "\n"
      ]
    },
    {
      "cell_type": "markdown",
      "metadata": {
        "id": "w2Xxc5eT7tYu"
      },
      "source": [
        "El metodo tridiagonal presentado anteriormente muestra que el costo computacional al resolver $Ax=b$ puede ser reducido si al reducir una matriz esta tiene un estructura conocida. Si la dimensión de el sistema es grande y si el sistema es _sparse_ (es decir, A tiene elementos nulos) entonces los metodos iterativos son mas atractivos sobre los metodos directos. \n",
        "\n",
        "Dos de esos metodos iterativos son presentados en esta sección. Esas dos forman la base de una familia de metodos los cuals estan diseñados tambien para acelerar la convergencia o correr en alguna arquitectura particular de alguna computadora.\n",
        "\n",
        "Los metodos pueden ser vistos en terminos de separar $A$ en la suma de sus partes. Espesificamente, $A=D+L+U$ donde $L$ y $U$ son las matrices inferiores y superiores (estrictamente) de A (No confundir con la factorización LU). Aquí $D$ es la matriz diagonal A. Por ejemplo para una matriz $2\\times 2$.\n"
      ]
    },
    {
      "cell_type": "markdown",
      "metadata": {
        "id": "lyUv8Jk0-xsn"
      },
      "source": [
        "\n",
        "$$ \\underbrace{\\begin{bmatrix}\n",
        "a_1 & a_2 \\\\\n",
        "b_1 & b_2 \n",
        "\\end{bmatrix}}_{\\text{A}}  = \\underbrace{\\begin{bmatrix}\n",
        "a_1 & 0 \\\\\n",
        "0 & b_2 \n",
        "\\end{bmatrix}}_{\\text{D}}  + \\underbrace{\\begin{bmatrix}\n",
        "0 & 0 \\\\\n",
        "b_1 & 0 \n",
        "\\end{bmatrix}}_{\\text{L}} +\\underbrace{\\begin{bmatrix}\n",
        "0 & a_2 \\\\\n",
        "0 & 0 \n",
        "\\end{bmatrix}}_{\\text{U}} $$"
      ]
    },
    {
      "cell_type": "markdown",
      "metadata": {
        "id": "2G_goXfB---U"
      },
      "source": [
        "Los elementos en estas matrices pueden ser descritos como \n",
        "\n",
        "\n",
        "![imagen.png](data:image/png;base64,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)"
      ]
    },
    {
      "cell_type": "markdown",
      "metadata": {
        "id": "pqvLiM6w_oyT"
      },
      "source": [
        "El metodo tambien puede ser visto como un reordenamiento de el sistema original en la forma.\n",
        "\n",
        "$$\\underbrace{\\begin{array}a\n",
        " x_1 =\\left[ b_1 - (a_{12}x_2+a_{13}x_3+\\cdots+ a_{1n})x_n)\\right]/a_{11}\\\\\n",
        "x_2 =\\left[ b_1 - (a_{21}x_1+a_{23}x_3+\\cdots+ a_{2n})x_n)\\right]/a_{22}\n",
        "\\\\\n",
        "\\vdots\n",
        "\\\\\n",
        "x_n \\left[ b_n - (a_{n1}x_1+a_{n2}x_2+\\cdots+ a_{n(n-1)})x_{n-1})\\right]/ a_{nn}\n",
        " \\end{array}}_{(1)} $$\n",
        "\n",
        "Que es de hecho el resultado de resolver la $i$-esima ecuación para $x_i$ en terminos de las variables desconocidas restantes. Hay una pequeña suposición que no hemos mencionado en (!), que es, que todos los elementos en la diagonal son diferentes de cero (Es siempre posible reordenar las ecuaciones de un sistema no singular para asegurarnos que la condicion sea satisfecha). Este reordenamiento del sistema original nos lleva en si misma a un tratamiento iterativo.\n",
        "\n"
      ]
    },
    {
      "cell_type": "markdown",
      "metadata": {
        "id": "wcTEbf9lDUzu"
      },
      "source": [
        "Para la **Iteracion de Jacabi**, generamos el siguiente vector solucion estimado para elpresente por sustituir los componentes actules en el lado derecho de (1) para obtener las siguientes iteraciones. En terminos de matrices\n",
        "$$\\underbrace{x^{k+1}=D^{-1}\\left[ b-(L+U)x^{k}\\right]}_{(2)}$$\n",
        "donde el superindice aqui representa un contador de iteraciones, así que el vector $x^k$ es la $k$-esima iteración. En terminos de componentes, tenemos\n",
        "\n",
        "$$\\underbrace{\\begin{array}a\n",
        " x_1^{(k+1)} =\\left[ b_1 - (a_{12}x_2^{(k)}+a_{13}x_3^{(k)}+\\cdots+ a_{1n})x_n^{(k)})\\right]/a_{11}\\\\\n",
        "x_2^{(k+1)} =\\left[ b_1 - (a_{21}x_1^{(k)}+a_{23}x_3^{(k)}+\\cdots+ a_{2n})x_n^{(k)})\\right]/a_{22}\n",
        "\\\\\n",
        "\\vdots \\hspace{3cm} \\vdots \\hspace{3cm} \\vdots \\hspace{3cm} \\vdots \\hspace{2cm} \\vdots\n",
        "\\\\\n",
        "x_n^{(k+1)} \\left[ b_n - (a_{n1}x_1^{(k)}+a_{n2}x_2^{(k)}+\\cdots+ a_{n(n-1)})x_{n-1}^{(k)})\\right]/ a_{nn}\n",
        " \\end{array}}_{(3)} $$\n",
        "\n"
      ]
    },
    {
      "cell_type": "code",
      "metadata": {
        "id": "gOddhd3eZI4E"
      },
      "source": [
        "import numpy as np\n",
        "\n",
        "def jacobit(A, b, Nits):\n",
        "  \"\"\"Crea ua matriz para calcular 'nits' operaciones para\n",
        "  el metodo de Jacobi para Ax=b donde 'A' debe de ser una matriz cuadrada\"\"\"\n",
        "  D = np.diag(A) #np.diag Extrae La Diagonal De La Matriz A. \n",
        "  n = A.shape[0]\n",
        "  n_1 = A.shape[1]\n",
        "  if n != n_1:\n",
        "    return \"La matriz A no es cuadrada, por tanto no se puede aplicar el metodo iterativo de Jacobi\"\n",
        "  A_D = A - np.diag(D) # Este es L+U, np.diag(D) Crea Una Matriz Diagonal  nxn Con Elementos En La Diagonal . \n",
        "  x = np.zeros(n)\n",
        "  s = np.zeros((n, Nits))\n",
        "  for k in range(Nits):\n",
        "    x = (b- A_D.dot(x))/D\n",
        "    s[:, k] = x\n",
        "  return x\n",
        "\n"
      ],
      "execution_count": null,
      "outputs": []
    },
    {
      "cell_type": "markdown",
      "metadata": {
        "id": "h1CjO8Q7FYJq"
      },
      "source": [
        "_Ejemplo 10._ Realize las primeras tres iteraciones de Jacobi para la solucion del sistema\n",
        "\n",
        "$$\\begin{array}l 6x_1+3x_2+2x_3=26\\\\\n",
        "2x_1+5x_2+x_3=17\\\\\n",
        "x_1+x_2+4x_3=9\n",
        "\\end{array}.$$\n",
        "\n",
        "**Solución**. Reescribiendo las ecuaciones como en (1), obtenemos\n",
        "\n",
        "$$\\begin{array}l x_1 = \\frac{26-(3x_2+2x_3)}{6}\\\\\n",
        "x_2= \\frac{17-(2x_1+x_3)}{5}\\\\\n",
        "x_3 = \\frac{9-(x_1+x_2)}{4}\n",
        "\\end{array}.$$\n",
        "\n",
        "tomando la iteracion inicial sugerida $x^0=0$, obtenemos las siguientes iteraciones, entonces:\n",
        "$$\\begin{array}l x_1 = \\frac{26-(3*0+2*0)}{6}=\\frac{26}{6}\\approx4.3333\\\\\n",
        "x_2= \\frac{17-(2*0+0)}{5}=\\frac{17}{5}\\approx 3.4\\\\\n",
        "x_3 = \\frac{9-(0+0)}{4}=\\frac{9}{4}\\approx 2.2500\n",
        "\\end{array}.$$\n",
        "\n",
        "las siguientes dos iteraciones nos dan\n",
        "$$x_1^2=1.8833 \\hspace{2cm} x_2^2=1.2176 \\hspace{2cm} x_3^2=0. 3167 \\\\x_1^6=3.6194\\hspace{2cm} x_2^3=2.5833 \\hspace{2cm} x_3^3=1.4750$$\n",
        "\n",
        "los cuales lentamente se acercaran a la verdadera solución $\\left[3,2,1\\right]^T$. De hecho eventualmente la novena iteración nos dará $x^{(9)}=\\left[3.048,2.0420,1.0353\\right] ^T$.\n",
        "\n",
        "Claramente para este pequeño sistema lienal, la presicion de la solucion es menos confortable que puede ser encontrada a traves de un metodo de resolucion directa. El proposito de este ejemplo simple es ilustrar como las iteraciones funcionan.\n",
        "\n"
      ]
    },
    {
      "cell_type": "code",
      "metadata": {
        "colab": {
          "base_uri": "https://localhost:8080/"
        },
        "id": "LaOpLtqda2dk",
        "outputId": "62d12015-b25d-4c35-f5c5-ef6e2d284565"
      },
      "source": [
        "A = np.array([[6,3,2],[2,5,1],[1,1,4]])\n",
        "b = np.array([26,17,9])\n",
        "SJ = jacobit(A,b,11)\n",
        "SJ"
      ],
      "execution_count": null,
      "outputs": [
        {
          "output_type": "execute_result",
          "data": {
            "text/plain": [
              "array([3.0211395 , 2.0176996 , 1.01493933])"
            ]
          },
          "metadata": {},
          "execution_count": 41
        }
      ]
    },
    {
      "cell_type": "markdown",
      "metadata": {
        "id": "9AahcCx-Kye4"
      },
      "source": [
        "Realizar los pasos a mano del algoritmo parece traer una pregunta a la mente. Una vez que $x_i^{(k+1)}$ ha sido obtenido de la primera ecuación en (3), ¿Por que no usar el valor más reciente en el lugar de $x_i^k$ en el restante para las actualizaciones en (3)?\n",
        "Esto de hecho, es una gran idea, esta idea fue llamada _Gauss-Seidel iteration_:\n",
        "$$\\underbrace{\\begin{array}a\n",
        " x_1^{(k+1)} =\\left[ b_1 - (a_{12}x_2^{(k)}+a_{13}x_3^{(k)}+\\cdots+ a_{1n})x_n^{(k)})\\right]/a_{11}\\\\\n",
        "x_2^{(k+1)} =\\left[ b_1 - (a_{21}x_1^{(k+1)}+a_{23}x_3^{(k)}+\\cdots+ a_{2n})x_n^{(k)})\\right]/a_{22}\n",
        "\\\\\n",
        "\\vdots \\hspace{3cm} \\vdots \\hspace{3cm} \\vdots \\hspace{3cm} \\vdots \\hspace{2cm} \\vdots\n",
        "\\\\\n",
        "x_n^{(k+1)}= \\left[ b_n - (a_{n1}x_1^{(k+1)}+a_{n2}x_2^{(k+1)}+\\cdots+ a_{n(n-1)})x_{n-1}^{(k+1)})\\right]/ a_{nn}\n",
        " \\end{array}}_{(4)} $$\n",
        "\n",
        "Notemos que lo unico que cambia respecto al metodo de Jacobi es que utiliza la iteracion del valor $x_i^k$ para calcular el siguiente valor $x_i^(k+1)$ y los valores ya clculados los sustituye en la iteración. O en terminos de matrices, \n",
        "\n",
        "$$\\underbrace{x^{(k+1)}=D^{-1}\\left[ b-\\left(Lx^{(k+1)}+Ux^{k}\\right)\\right]}_{(5)}$$\n",
        "\n",
        "Notemos que (5) deberia ser entendido como un asignamiento de valores de la parte derecha al lado izquierdo donde las entradas $x^{(k+1)}$ son actualizadas secuencialmente en un ordena natural.\n",
        "\n",
        "\n",
        "\n",
        "---\n",
        "\n"
      ]
    },
    {
      "cell_type": "markdown",
      "metadata": {
        "id": "OmWrSo4hQpOt"
      },
      "source": [
        "_Ejemplo 11._ Repita el ejemplo 10 usando _Gauss-Siedel iteration_.\n",
        "\n",
        "**Solución.** Con la iteracion inicial igual que en ejemplo 10, la primera iteración es\n",
        "\n",
        "$$\\begin{array}l x_1^1 = \\frac{26-(3*0+2*0)}{6}=\\frac{26}{6}\\approx4.3333\\\\\n",
        "x_2^1= \\frac{17-(2*4.333+0)}{5}\\approx 1.6667\\\\\n",
        "x_3^1 = \\frac{9-(4.3333+1.6667)}{4}=\\frac{9}{4}\\approx 0.7500\n",
        "\\end{array}.$$\n",
        "Las siguientes dos iteraciones entonces producen el estimado:\n",
        "\n",
        "$$x_1^2=3.25 \\hspace{2cm} x_2^2=1.95 \\hspace{2cm} x_3^2=0.95 \\\\x_1^3=3.0417\\hspace{2cm} x_2^3=1.9933 \\hspace{2cm} x_3^3=0.9912$$\n",
        "\n",
        "cuales numeros son mucho mas cercanos a la solucion verdadera que el metodo de iteración de Jacobi para el mismo valor computacional.\n",
        "\n",
        "\n",
        "\n",
        "---\n",
        "\n",
        "\n",
        "Ninguna de los iteraciones (3) o (4) usan rudamente $n^2$ multplicaciones  y $n$ diviciones por iteración.  Comparando esta cantidad de operaciones con el metodo de eliminacion gaussiana, vemos que los metodos de iteracion parecen ser computacionalmente menos costosos si estos convergen en menos de $n/3$ iteraciones. Para sistemas _sparse_ esto podria ser el caso."
      ]
    },
    {
      "cell_type": "markdown",
      "metadata": {
        "id": "fKfhjjEiVXHX"
      },
      "source": [
        "Con cualquier metodo iterativo nos surge una pregunta, ¿bajo qué condiciones el método convergerá? En los ejemplos anteriores mostramos que convergian, pero desafortunadamente esto no es una garantia de que se comporten de esa manera tales metodos iterativos.\n",
        "\n",
        "\n",
        "---\n",
        "\n",
        "\n",
        "**Definición.** La matriz de coeficientes es diagonalmente dominante si cada elemento en la diagonal es mayor que la suma de valores absolutos de las otras entradas de la fila o\n",
        "\n",
        "$$|a_{ii}| > \\sum_{i\\neq j} |a_{ij}|$$\n",
        "\n",
        "para cada $i$. \n",
        "\n",
        "\n",
        "---\n",
        "\n",
        "\n",
        "Para nuestros ejemplos de la matriz de coeficientes del ejemplo 10, tenemos que $6>3+2$, $5>2+1$, y $4>1+1$, por tanto la matriz de coeficientes del ejemplo 10 es diagonalmente dominante.\n",
        "\n",
        "(**) La condicion más simle bajo ambos metodos iterativos (Jacobi y Gauss-Seidel) puede ser probada su convergencia es cuando la matriz de coeficientes es diagonalmente dominante.\n",
        "\n"
      ]
    },
    {
      "cell_type": "code",
      "metadata": {
        "id": "E8O81fx5RfwV"
      },
      "source": [
        "import numpy as np\n",
        "\n",
        "def gs(A, b, Nits):\n",
        "  \"\"\"Metodo de Gauss Seidel. \n",
        "  Pide un sistema de eciaiones, A, b. Donde hace el numero 'Nits' de iteraciones y lo resuelve.\n",
        "  Autor: @J^2QB\"\"\"\n",
        "  D = np.diag(A) #np.diag Extrae La Diagonal De La Matriz A. \n",
        "  n = A.shape[0]\n",
        "  n_1 = A.shape[1]\n",
        "  if n != n_1:\n",
        "    return \"La matriz A no es cuadrada, por tanto no se puede aplicar el metodo iterativo de Jacobi\"\n",
        "  A_D = A - np.diag(D) # Este es L+U, np.diag(D) Crea Una Matriz Diagonal  nxn Con Elementos En La Diagonal . \n",
        "  x = np.zeros(n)\n",
        "  s = np.zeros((n, Nits))\n",
        "  for k in range(Nits):\n",
        "    for i in range(n):\n",
        "      x[i] = (b[i]- A_D.dot(x)[i])/D[i]\n",
        "      s[i, k] = x[i]\n",
        "  return x"
      ],
      "execution_count": null,
      "outputs": []
    },
    {
      "cell_type": "code",
      "metadata": {
        "colab": {
          "base_uri": "https://localhost:8080/"
        },
        "id": "MhJ92cYeyYCq",
        "outputId": "7e6a23b8-6da6-4613-e25b-cbb4fa2650da"
      },
      "source": [
        "import numpy as np\n",
        "\n",
        "n = 10\n",
        "d = np.eye((n))*4\n",
        "d_p1 = -1*np.eye(n,k=1) \n",
        "d_l1 = -1*np.eye(n,k=-1)\n",
        "matrix = d+d_p1+d_l1 \n",
        "b = np.array([9,5,5,5,5,5,5,5,5,5])\n",
        "solution = gs(matrix,b,20)\n",
        "print(solution)\n",
        "solution_np = np.linalg.solve(matrix,b)\n",
        "error = np.abs(solution_np-solution)\n",
        "error"
      ],
      "execution_count": null,
      "outputs": [
        {
          "output_type": "stream",
          "name": "stdout",
          "text": [
            "[2.90191936 2.60767745 2.52879042 2.50748425 2.50114659 2.4971021\n",
            " 2.48726181 2.45194513 2.3205187  1.83012968]\n"
          ]
        },
        {
          "output_type": "execute_result",
          "data": {
            "text/plain": [
              "array([1.88258298e-11, 1.74917858e-11, 1.18443033e-11, 6.90159041e-12,\n",
              "       3.63131747e-12, 1.75282011e-12, 7.76267939e-13, 3.09974268e-13,\n",
              "       1.06581410e-13, 2.66453526e-14])"
            ]
          },
          "metadata": {},
          "execution_count": 9
        }
      ]
    },
    {
      "cell_type": "code",
      "metadata": {
        "colab": {
          "base_uri": "https://localhost:8080/"
        },
        "id": "c4vZYuDj1nvR",
        "outputId": "1630aaad-1f7d-45d7-b923-601f9159516e"
      },
      "source": [
        "l  = gs(A,b,11)\n",
        "l,SJ"
      ],
      "execution_count": null,
      "outputs": [
        {
          "output_type": "execute_result",
          "data": {
            "text/plain": [
              "(array([2.99999999, 2.        , 1.        ]),\n",
              " array([3.0211395 , 2.0176996 , 1.01493933]))"
            ]
          },
          "metadata": {},
          "execution_count": 42
        }
      ]
    },
    {
      "cell_type": "markdown",
      "metadata": {
        "id": "9WMw1GJbVMIJ"
      },
      "source": [
        "#Método de Gradiente Conjugado.\n",
        "\n",
        "Consideremos el problema de encontrar el vector $x$ que minimiza la función escalar.\n",
        "\n",
        "$$\\underbrace{f(x)=\\frac{1}{2}x^T Ax-b^Tx}_{(6)}$$\n",
        "\n",
        "donde la matriz *$A$* es _simetrica_ y positiva. Porqu $f(x)$ es minimizada cuando su gradiente $\\nabla f =Ax-b$ es cero, vemos que la minimización es equivalente a resolver\n",
        "\n",
        "$$\\underbrace{Ax=b}_{(7)}$$\n",
        "\n",
        "Los métodos de gradiente ejecutan la miniminación por iteración, empezamos con un vector inicial $x_0$. Cada ciclo iterativo $k$ calcula una solución refinada\n",
        "\n",
        "$$\\underbrace{x_{k+1}=x_k+\\alpha_k s_k}_{(8)}$$\n",
        "\n",
        "El _largo del paso_ $\\alpha_k$ es dado así que $x_{k+1}$ minimiza $f(x_{k+1})$ en la _direccion de busqueda_ $s_k$. Esto es, $x_{k+1}$ deberia satisfacer (7):\n",
        "\n",
        "$$\\underbrace{A(x_k+\\alpha_k s_k)=b}_{(a)}$$\n",
        "introducimos el _residual_\n",
        "$$r_k = b - Ax_k$$\n",
        "así la ecuación (a) se convierte en $$\\alpha_k As_k = r_k$$\n",
        "Mulplicando en ambos lados por $s_k^T$ y resolviendo para $\\alpha_k$, obtenemos\n",
        "$$\\alpha_k = \\frac{s_k^T r_k}{s_k^T A s_k}$$"
      ]
    },
    {
      "cell_type": "markdown",
      "metadata": {
        "id": "VbgY06kxf1fy"
      },
      "source": [
        " Sin embargo, aun tenemos el problema de determinar la _dirección de busqueda_ $s_k$. Intuición nos dice el escojer $s_k = -\\nabla f =r_k$, porque esta es la direccion de el más grande cambio negativo en $f(x)$. El procedimiento resultante es conocido como el método del rapido desecenso. Este no es un algoritmo popular debido a que su convergencia puede ser lenta. Sin embargo, el más eficiente metodo de gradiente conjugado usa la direccion de busqueda\n",
        "\n",
        "\n",
        " $$\\underbrace{s_{k+1}=r_{k+1}+\\beta_{k}s_k}_{(9)}$$\n",
        "\n",
        " La constante $\\beta_k$ es elegida. Así qe las dos busquedas de direccion sucesivas son conjugadas una a otra, es decir,\n",
        " \n",
        " $$\\underbrace{s_{k+1}^{T}As_k=0}_{(b)}$$\n",
        "\n",
        " El gran atracctivo del metodo de gradientes conjugados es la minimizacion en una direccion conjugada no borra las minimizaciones previas (minimizaciones no interfiere uno con otro.)\n",
        "Sustituyendo $s_{k+1}$ de la ecuacion (9) en (b), obtenemos,\n",
        "\n",
        "$$\\beta_k=\\frac{r_{k+1}^{T}+As_{k}}{s_{k}^{T}As_k}$$\n"
      ]
    },
    {
      "cell_type": "markdown",
      "metadata": {
        "id": "vdxsWmVLoFR3"
      },
      "source": [
        "Puede ser mostrado que los vecotres residuales $r_1,r_2,r_3,...$ producidos por el algoritmo son mutuamente ortogonales, esto es $r_i \\dot r_j = 0$, $i\\neq j$. Ahora supongamos que hemos realizado suficientes iteraciones para tener calculado todo el conjunto e los $n$ vectores residuales. El rresidual resultante de la siguiente iteracion deberá ser un vector nulo ($r_{n+1}=0$), indicando que la solucion ha sido obtenida.\n",
        "\n",
        "\n",
        "Pareceria que el algoritmo de gradiente conjugado no es un método iterativo del todo, porque este alcanza la solución exacta despues de $n$ ciclos computacionales. En la practica, como sea, la convergencia es usualmente alcanzada en menos de $n$ iteraciones.\n",
        "El metodo de gradiente conjugado es no competitivo con los metodos directos en la solución de un pequeño conjunto de ecuaciones. Su fuerza esta en el manejo de grandes sistemas, sistemas separados. Es importante notar que $A$ entra el algoritmo solo atraves de multiplicacion por un vector, esto es, en la forma $Av$, donde $v$ es un vector (tampoco $x_{k+1}$ o $S_k$)."
      ]
    },
    {
      "cell_type": "markdown",
      "metadata": {
        "id": "iPIPUS3KzhcV"
      },
      "source": [
        "#$\\blacksquare$ conjGrad\n",
        "La funcion _conjGrand_ mostrado a continuacion implenmeta el metodo de gradiente conjugado. El numero maximo de iteraciones permitibles es el conjunto de $n$ (el numero de varibales). Notemos que _conjGrad_ llama la funcion Av que regresa el producto $Av$. Esta funcion deberia ser dada por el usuario. El usuario deberia ser proveido el vector inicial $x_0$ y las constante (lado derecho) vector $b$. La función regresa el vector solución $x$ y el numero de iteraciones.  "
      ]
    },
    {
      "cell_type": "code",
      "metadata": {
        "id": "vRJQYsjB5ln5"
      },
      "source": [
        "import numpy as np\n",
        "import math\n",
        "\n",
        "def conjGrad(Av,x,b,tol=1.0e-9):\n",
        "  n = len(b)\n",
        "  r = b - Av(x)\n",
        "  s = r.copy()\n",
        "  for i in range(n):\n",
        "    u = Av(s)\n",
        "    alpha = np.dot(s,r)/np.dot(s,u)\n",
        "    x = x + alpha*s\n",
        "    r = b - Av(x)\n",
        "    if (math.sqrt(np.dot(r,r))) < tol:\n",
        "      break\n",
        "    else:\n",
        "      beta = -np.dot(r,u)/np.dot(s,u)\n",
        "      s = r +beta*s\n",
        "  return x,i"
      ],
      "execution_count": null,
      "outputs": []
    },
    {
      "cell_type": "markdown",
      "metadata": {
        "id": "_MH2cQwI_DDO"
      },
      "source": [
        "_Ejemplo 2.15_. Resueva las siguientes ecuaciones\n",
        "$$ $$\n",
        "$$\\begin{bmatrix}\n",
        "4 & -1 & 1 \\\\\n",
        "-1 & 4 & -2 \\\\\n",
        "1 & -2 & 4 \\\\\n",
        "\\end{bmatrix}\n",
        "\\begin{bmatrix} \n",
        "x_1 \\\\ \n",
        "x_2 \\\\ \n",
        "x_3 \\\\\n",
        "\\end{bmatrix}\n",
        "=\n",
        "\\begin{bmatrix}12 \\\\ -1 \\\\ 5 \\end{bmatrix}$$\n",
        "$$ $$\n",
        "Por el metodo de gradiente conjugado.\n",
        "_Solución._ \n",
        "\n",
        "El método de gradiente conjugado deveria converge despues de tres iteraciones. Escojiendo otra vez el vector inicial\n",
        "\n",
        "$$x_0 = \\begin{bmatrix} 0 & 0 & 0\\end{bmatrix}^T$$\n",
        "Sean \n",
        "$$b=\\begin{bmatrix}\n",
        "12 \\\\ -1 \\\\ 5\n",
        "\\end{bmatrix}, \\hspace{0.5cm} v=\\begin{bmatrix}\n",
        "4 & -1 & 1 \\\\\n",
        "-1 & 4 & -2 \\\\\n",
        "1 & -2 & 4 \\\\\n",
        "\\end{bmatrix}\n",
        "   .$$\n",
        "\n",
        "Pasamos esto a codigo de python"
      ]
    },
    {
      "cell_type": "code",
      "metadata": {
        "colab": {
          "base_uri": "https://localhost:8080/",
          "height": 343
        },
        "id": "acL9kr9ndXiA",
        "outputId": "654d32e8-7079-450e-c0cd-0774033befff"
      },
      "source": [
        "import numpy as np\n",
        "\n",
        "b = np.array([12,-1,5])\n",
        "v = np.array([[4,-1,1],[-1,4,-2],[1,-2,4]])\n",
        "x = np.zeros(3)\n",
        "\n",
        "sol = conjGrad(v,x,b)\n",
        "sol\n"
      ],
      "execution_count": null,
      "outputs": [
        {
          "output_type": "error",
          "ename": "TypeError",
          "evalue": "ignored",
          "traceback": [
            "\u001b[0;31m---------------------------------------------------------------------------\u001b[0m",
            "\u001b[0;31mTypeError\u001b[0m                                 Traceback (most recent call last)",
            "\u001b[0;32m<ipython-input-5-32c680f8b51d>\u001b[0m in \u001b[0;36m<module>\u001b[0;34m()\u001b[0m\n\u001b[1;32m      5\u001b[0m \u001b[0mx\u001b[0m \u001b[0;34m=\u001b[0m \u001b[0mnp\u001b[0m\u001b[0;34m.\u001b[0m\u001b[0mzeros\u001b[0m\u001b[0;34m(\u001b[0m\u001b[0;36m3\u001b[0m\u001b[0;34m)\u001b[0m\u001b[0;34m\u001b[0m\u001b[0;34m\u001b[0m\u001b[0m\n\u001b[1;32m      6\u001b[0m \u001b[0;34m\u001b[0m\u001b[0m\n\u001b[0;32m----> 7\u001b[0;31m \u001b[0msol\u001b[0m \u001b[0;34m=\u001b[0m \u001b[0mconjGrad\u001b[0m\u001b[0;34m(\u001b[0m\u001b[0mv\u001b[0m\u001b[0;34m,\u001b[0m\u001b[0mx\u001b[0m\u001b[0;34m,\u001b[0m\u001b[0mb\u001b[0m\u001b[0;34m)\u001b[0m\u001b[0;34m\u001b[0m\u001b[0;34m\u001b[0m\u001b[0m\n\u001b[0m\u001b[1;32m      8\u001b[0m \u001b[0msol\u001b[0m\u001b[0;34m\u001b[0m\u001b[0;34m\u001b[0m\u001b[0m\n",
            "\u001b[0;32m<ipython-input-3-410ce34a63fd>\u001b[0m in \u001b[0;36mconjGrad\u001b[0;34m(Av, x, b, tol)\u001b[0m\n\u001b[1;32m      4\u001b[0m \u001b[0;32mdef\u001b[0m \u001b[0mconjGrad\u001b[0m\u001b[0;34m(\u001b[0m\u001b[0mAv\u001b[0m\u001b[0;34m,\u001b[0m\u001b[0mx\u001b[0m\u001b[0;34m,\u001b[0m\u001b[0mb\u001b[0m\u001b[0;34m,\u001b[0m\u001b[0mtol\u001b[0m\u001b[0;34m=\u001b[0m\u001b[0;36m1.0e-9\u001b[0m\u001b[0;34m)\u001b[0m\u001b[0;34m:\u001b[0m\u001b[0;34m\u001b[0m\u001b[0;34m\u001b[0m\u001b[0m\n\u001b[1;32m      5\u001b[0m   \u001b[0mn\u001b[0m \u001b[0;34m=\u001b[0m \u001b[0mlen\u001b[0m\u001b[0;34m(\u001b[0m\u001b[0mb\u001b[0m\u001b[0;34m)\u001b[0m\u001b[0;34m\u001b[0m\u001b[0;34m\u001b[0m\u001b[0m\n\u001b[0;32m----> 6\u001b[0;31m   \u001b[0mr\u001b[0m \u001b[0;34m=\u001b[0m \u001b[0mb\u001b[0m \u001b[0;34m-\u001b[0m \u001b[0mAv\u001b[0m\u001b[0;34m(\u001b[0m\u001b[0mx\u001b[0m\u001b[0;34m)\u001b[0m\u001b[0;34m\u001b[0m\u001b[0;34m\u001b[0m\u001b[0m\n\u001b[0m\u001b[1;32m      7\u001b[0m   \u001b[0ms\u001b[0m \u001b[0;34m=\u001b[0m \u001b[0mr\u001b[0m\u001b[0;34m.\u001b[0m\u001b[0mcopy\u001b[0m\u001b[0;34m(\u001b[0m\u001b[0;34m)\u001b[0m\u001b[0;34m\u001b[0m\u001b[0;34m\u001b[0m\u001b[0m\n\u001b[1;32m      8\u001b[0m   \u001b[0;32mfor\u001b[0m \u001b[0mi\u001b[0m \u001b[0;32min\u001b[0m \u001b[0mrange\u001b[0m\u001b[0;34m(\u001b[0m\u001b[0mn\u001b[0m\u001b[0;34m)\u001b[0m\u001b[0;34m:\u001b[0m\u001b[0;34m\u001b[0m\u001b[0;34m\u001b[0m\u001b[0m\n",
            "\u001b[0;31mTypeError\u001b[0m: 'numpy.ndarray' object is not callable"
          ]
        }
      ]
    },
    {
      "cell_type": "code",
      "metadata": {
        "id": "zkRMvpzLeOfQ"
      },
      "source": [
        "\n"
      ],
      "execution_count": null,
      "outputs": []
    }
  ]
}