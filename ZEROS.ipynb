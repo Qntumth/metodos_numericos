{
  "nbformat": 4,
  "nbformat_minor": 0,
  "metadata": {
    "colab": {
      "name": "ZEROS.ipynb",
      "provenance": [],
      "collapsed_sections": [],
      "authorship_tag": "ABX9TyMoNvUdYYxSwDAV1tKMC5ux",
      "include_colab_link": true
    },
    "kernelspec": {
      "name": "python3",
      "display_name": "Python 3"
    },
    "language_info": {
      "name": "python"
    }
  },
  "cells": [
    {
      "cell_type": "markdown",
      "metadata": {
        "id": "view-in-github",
        "colab_type": "text"
      },
      "source": [
        "<a href=\"https://colab.research.google.com/github/Qntumth/metodos_numericos/blob/main/ZEROS.ipynb\" target=\"_parent\"><img src=\"https://colab.research.google.com/assets/colab-badge.svg\" alt=\"Open In Colab\"/></a>"
      ]
    },
    {
      "cell_type": "markdown",
      "metadata": {
        "id": "EvRVezRzw7k-"
      },
      "source": [
        "#$\\blacksquare$ El método de bisección.\n",
        "\n",
        "Muchas ideas en este notebook nos conducirá a metodos para resolver $f(x)=0$, que estan basados en temas de calculo (y un poco de analisis). Uno de los métodos más simples es el de _bisección_ el cual esta basado en el teorema del valor intermedio. Supongamos que $f$ es continua en un intervalo $[a,b]$ y que $f(a)*f(b)<0$ (es decir, $f(a)$ y $f(b)$ son de signos opuestos). Entonces por el teorema del valor intermedio, hay una solución entre $a$ y $b$.\n",
        "\n",
        "\n",
        "En cada iteración establecemos un valor $m$ tal que es el punto medio del intervalo de la iteración $n$, $[a_n,b_n]$. Si $f(a_n)$ y $f(m_n)$ tienen puntos opuestos, entonces la solución debe de estar entre $a_n$ y $m_n$. En cambio, si $a_n$ y $m_n$ tienen el mismo signo, entonces la solución debe de estar entre $b_n$ y $m_n$. Y repetir el procedimiento con el nuevo intervalo.\n",
        "\n",
        "Sin embaro, este proceso puede continuar hasta que encontremos una solución con una aproximación deseada, esta es llamada _tolerancia_. Un posible criterio para detener este proceso es cuando el largo del intervalo $b-a$ es menor que una cierta tolerancia.\n",
        "\n",
        "En la parte de abajo expresamos el codigo del metodo de bisección.\n"
      ]
    },
    {
      "cell_type": "code",
      "metadata": {
        "id": "ykh4A03-40m8"
      },
      "source": [
        "import numpy as np\n",
        "\n",
        "def bisecction(f, a, b, tolerancia):\n",
        "  fa = f(a)\n",
        "  fb = f(b)\n",
        "  contador = 0\n",
        "  if fa*fb > 0:\n",
        "    return 'No hay una solución en el interavalo dado.'\n",
        "  while (np.abs(b-a) > 2*tolerancia):\n",
        "    contador = contador + 1\n",
        "    m = (a+b)/2\n",
        "    fm = f(m)\n",
        "    if (fa * fm < 0):\n",
        "      b = m\n",
        "    elif (m == 0):\n",
        "      break\n",
        "    else:\n",
        "      a = m\n",
        "    value = (a+b)/2\n",
        "  return value, contador\n"
      ],
      "execution_count": null,
      "outputs": []
    },
    {
      "cell_type": "markdown",
      "metadata": {
        "id": "yhfvRhVu6nXh"
      },
      "source": [
        "_Ejemplo 1._ Use el metodo de bisección para resolver\n",
        "\n",
        "$$x-\\cos x -1 =0$$\n",
        "con una tolerancia de 0.00001.\n",
        "\n",
        "Solución.\n",
        "Con $f(x)=x-\\cos x-1$, vemos facilmente que $f(0)=-2$, mientras que $f(\\pi/2)=\\pi/2$. Asi que"
      ]
    },
    {
      "cell_type": "code",
      "metadata": {
        "colab": {
          "base_uri": "https://localhost:8080/"
        },
        "id": "zzakIdk67Li3",
        "outputId": "6336145e-1b63-46c9-a4c4-60ec9ede8717"
      },
      "source": [
        "def fcn1(x):\n",
        "  k = x-np.cos(x)-1\n",
        "  return k\n",
        "\n",
        "sol = bisecction(fcn1, 0, 0.5*np.pi, 1e-5)\n",
        "sol\n",
        "#Observemos que \n",
        "zero = fcn1(sol)\n",
        "zero"
      ],
      "execution_count": null,
      "outputs": [
        {
          "output_type": "execute_result",
          "data": {
            "text/plain": [
              "7.5385139934880385e-06"
            ]
          },
          "metadata": {},
          "execution_count": 46
        }
      ]
    },
    {
      "cell_type": "markdown",
      "metadata": {
        "id": "FG0kdL6vFObx"
      },
      "source": [
        "_Ejemplo 2_ Use el método de bisección para encontrar las soluciones positivas de la ecuación $f(x)=e^x-5x+2$ por el método de bisección.\n",
        "\n",
        "**Solución.** Usando el método anteriormente definido y creando la funcion f(x) en python. Sin embargo, primero graficamos la función para hallar un intervalo donde posea alguna raíz."
      ]
    },
    {
      "cell_type": "code",
      "metadata": {
        "colab": {
          "base_uri": "https://localhost:8080/",
          "height": 302
        },
        "id": "ss_5KVQRFuMx",
        "outputId": "bd9377bd-3f4e-45cb-ac55-4ea6c707ff5e"
      },
      "source": [
        "import matplotlib.pyplot as plt\n",
        "\n",
        "def f2(x):\n",
        "  return np.exp(x)-5*x+2\n",
        "\n",
        "dom = np.linspace(-1,3,50)\n",
        "f = np.exp(dom)-5*dom+2\n",
        "fig, ax = plt.subplots(1, 1, figsize=(12, 4))\n",
        "ax.plot(dom, f, lw=1.5)\n",
        "ax.axhline(0, ls=':', color='k')\n",
        "ax.set_xlabel(r'$x$', fontsize=16)\n",
        "ax.set_ylabel(r'$f(x)$',fontsize=16)\n",
        "ax.set_xticks([-1,0,1,2,3])\n",
        "ax.grid(True)\n",
        "\n",
        "solution = Bisecction(f2,0.5,1,1e-5)\n",
        "solution2 = Bisecction(f2,2,2.5,1e-5)\n",
        "ax.plot(solution, f2(solution), 'go', alpha=.5, color='g')\n",
        "ax.plot(solution2, f2(solution2), 'go', alpha=.5, color='g')"
      ],
      "execution_count": null,
      "outputs": [
        {
          "output_type": "execute_result",
          "data": {
            "text/plain": [
              "[<matplotlib.lines.Line2D at 0x7feb94e70810>]"
            ]
          },
          "metadata": {},
          "execution_count": 65
        },
        {
          "output_type": "display_data",
          "data": {
            "image/png": "[encoded data removed]",
            "text/plain": [
              "<Figure size 864x288 with 1 Axes>"
            ]
          },
          "metadata": {
            "needs_background": "light"
          }
        }
      ]
    },
    {
      "cell_type": "code",
      "metadata": {
        "colab": {
          "base_uri": "https://localhost:8080/",
          "height": 321
        },
        "id": "Ipi8N8yyG99g",
        "outputId": "4cd34f04-f26a-4759-aa49-11482e10427e"
      },
      "source": [
        "#EJEMPLO PERROTE DE GRAFICA DEL METODO DE BISECCION.\n",
        "import numpy as np\n",
        "import matplotlib.pyplot as plt\n",
        "f = lambda x: np.exp(x) - 2\n",
        "tol = 0.1\n",
        "a, b = -2, 2\n",
        "x = np.linspace(-2.1, 2.1, 1000)\n",
        "# graph the function f\n",
        "fig, ax = plt.subplots(1, 1, figsize=(12, 4))\n",
        "ax.plot(x, f(x), lw=1.5)\n",
        "ax.axhline(0, ls=':', color='k')\n",
        "ax.set_xticks([-2, -1, 0, 1, 2])\n",
        "ax.set_xlabel(r'$x$', fontsize=18)\n",
        "ax.set_ylabel(r'$f(x)$', fontsize=18)\n",
        "# encuentre la raiz usando el método de biseccion y visualize\n",
        "# los pasos en la visualización \n",
        "fa, fb = f(a), f(b)\n",
        "ax.plot(a, fa, 'ko')\n",
        "ax.plot(b, fb, 'ko')\n",
        "ax.text(a, fa + 0.5, r\"$a$\", ha='center', fontsize=18)\n",
        "ax.text(b, fb + 0.5, r\"$b$\", ha='center', fontsize=18)\n",
        "n = 1\n",
        "while b - a > tol:\n",
        "    m = a + (b - a)/2\n",
        "    fm = f(m)\n",
        "    ax.plot(m, fm, 'ko')\n",
        "    ax.text(m, fm - 0.5, r\"$m_%d$\" % n, ha='center')\n",
        "    n += 1\n",
        "    if np.sign(fa) == np.sign(fm):\n",
        "            a, fa = m,fm\n",
        "    else:\n",
        "            b, fb = m, fm\n",
        "ax.plot(m, fm, 'r*', markersize=10)\n",
        "ax.annotate(\"Aproximación de la raiz  %.3f\" % m,\n",
        "fontsize=14, family=\"serif\",\n",
        "xy=(a, fm), xycoords='data',\n",
        "xytext=(-150, +50), textcoords='offset points',\n",
        "arrowprops=dict(arrowstyle=\"->\",\n",
        "connectionstyle=\"arc3, rad=-.5\"))\n",
        "ax.set_title(\"Método de Bisección \")"
      ],
      "execution_count": null,
      "outputs": [
        {
          "output_type": "execute_result",
          "data": {
            "text/plain": [
              "Text(0.5, 1.0, 'Método de Bisección ')"
            ]
          },
          "metadata": {},
          "execution_count": 63
        },
        {
          "output_type": "display_data",
          "data": {
            "image/png": "[encoded data removed]",
            "text/plain": [
              "<Figure size 864x288 with 1 Axes>"
            ]
          },
          "metadata": {
            "needs_background": "light"
          }
        }
      ]
    },
    {
      "cell_type": "markdown",
      "metadata": {
        "id": "S3G7PSKFGXfg"
      },
      "source": [
        "----\n",
        "#$$\\text{Ejercicios}$$\n",
        "----\n",
        "\n",
        "1 . Muestre que la ecuación \n",
        "\n",
        "$$3x³-5x²-4x+4=0$$\n",
        "\n",
        "tiene una raiz en el intervalo $[0,1]$. Use el metodo de biseccion para obtener un intervalo de largo menor a 1/8 que contenga esta solución. Cuantass iteraciones deberán de ser necesarias para obtener su solucion con un error menor que $10⁶$.\n",
        "\n",
        "**Solución.** Sea $f(x)=3x³-5x²-4x+4 $ veamos que \n",
        "\n",
        "$$f(0)=4, \\hspace{0.5cm} f(1)=-2.$$\n",
        "\n",
        "luego, como $f$ es continua sobre todo los reales, sobre 0 y 1 exite un $x$ tal que $f(x)=0$.\n",
        "\n",
        "Usando codigo en pyhton,"
      ]
    },
    {
      "cell_type": "code",
      "metadata": {
        "colab": {
          "base_uri": "https://localhost:8080/"
        },
        "id": "5-SE6e1wINNU",
        "outputId": "be69a4c5-ee68-4084-b2f5-c377d56d274b"
      },
      "source": [
        "def f(x):\n",
        "  return 3*x**2-5*x**2-4*x+4\n",
        "\n",
        "root_a = bisecction(f,0,1,0.125)\n",
        "root_a[0]"
      ],
      "execution_count": null,
      "outputs": [
        {
          "output_type": "execute_result",
          "data": {
            "text/plain": [
              "0.625"
            ]
          },
          "metadata": {},
          "execution_count": 7
        }
      ]
    },
    {
      "cell_type": "markdown",
      "metadata": {
        "id": "uSnIno72JNBL"
      },
      "source": [
        "finalmente encontramos cuantas iteraciones son necesarias para poder calcular la raiz con la precision deseada"
      ]
    },
    {
      "cell_type": "code",
      "metadata": {
        "colab": {
          "base_uri": "https://localhost:8080/"
        },
        "id": "4jZ7hrxHJYqT",
        "outputId": "411fdc96-d256-4f5c-fb33-3981cafa2fe8"
      },
      "source": [
        "root_b = bisecction(f,0,1,1.0e-6)\n",
        "root_b"
      ],
      "execution_count": null,
      "outputs": [
        {
          "output_type": "execute_result",
          "data": {
            "text/plain": [
              "(0.732050895690918, 19)"
            ]
          },
          "metadata": {},
          "execution_count": 12
        }
      ]
    },
    {
      "cell_type": "markdown",
      "metadata": {
        "id": "9tc3ctzWIMGA"
      },
      "source": [
        "2 . Muestre que la ecuación $e^x-3x-1=0$ tiene solo una solución positiva, y que se encuentra en el intervalo $[1,3]$. Use el método de biseccion para encontrar la solucion positiva de esta ecuacion con un error menor a $10^{-5}$.\n",
        "\n",
        "**Solucion.** Sea $f(x)=e^x-3x-1$, observemos que\n",
        "\n",
        "$$f(1)=e-4<0 \\hspace{0.5cm} f(3)=e³-9>0$$\n",
        "\n",
        "por tanto, exite una raiz en el intervalo dado."
      ]
    },
    {
      "cell_type": "code",
      "metadata": {
        "colab": {
          "base_uri": "https://localhost:8080/"
        },
        "id": "oW5Zl9XeMOzW",
        "outputId": "b98e15d4-5a0b-4c0e-f03d-391df50ef89a"
      },
      "source": [
        "def f1(x):\n",
        "  return np.exp(x)-3*x-1\n",
        "\n",
        "root_c = bisecction(f1,1,3,1e-5)\n",
        "root_c[0]"
      ],
      "execution_count": null,
      "outputs": [
        {
          "output_type": "execute_result",
          "data": {
            "text/plain": [
              "1.9038162231445312"
            ]
          },
          "metadata": {},
          "execution_count": 11
        }
      ]
    },
    {
      "cell_type": "markdown",
      "metadata": {
        "id": "cWtwj1Jllf5f"
      },
      "source": [
        "#$\\blacksquare $ Método del Punto Fijo.\n",
        "\n",
        "Aunque el metodod de biseccion nos da una manera simple y reiterable para resolver una ecuación, si la funcion $f$ es más complicada (talves sus valores pueden ser obtenidos de una ecuación diferencial) o si la tarea es el mejorar para diferentes valores para algunos parametrosm entonces necesitamos una tecnica más.\n",
        "\n",
        "  La iteración del punto fijo aplica para problemas en el caso especial donde $f(x)=0$ puede ser rescrito en la forma\n",
        "  $$x=g(x),\\hspace{1cm}(*)$$\n",
        "  bajo este nuevo reordenamiento, podemos usarlo para definir un peoceso como sigue. Dada una iteracion inicial $x_0$, o estimamos por donde podría estar la solución, entonces una secuencia puede ser definida por $x_n$ con\n",
        "  $$x_n=g(x_{n-1}),\\hspace{1cm}, n=1,2,3,...$$\n",
        "  Supusiendo que $g$ es continua, vemos que, si la secuencia iteratuva converge entonces los terminos se acercan más y más. Eventualmente obtenemos, para cualquier precision deseada \n",
        "  $$x_n \\approx x_{n-1}$$\n",
        "lo cual es decir, \n",
        "\n",
        "$$x_{n-1}\\approx g(x_{n-1})$$\n",
        "\n",
        "de esta forma, $x_n$ es aproximadamente una solución a la ec(*)."
      ]
    },
    {
      "cell_type": "markdown",
      "metadata": {
        "id": "OZzmW84JZUqf"
      },
      "source": [
        "_Ejemplo 4._ Consideramos la ec, $x-\\cos x -1 =0$, la cual obviamente se puede reescribir como\n",
        "\n",
        "$$x=\\cos x +1$$\n",
        "\n",
        "La función de iteración es entonces $g(x)=\\cos x + 1$. Consideremos como valor inicial a $x_0=1.374$. Entonces el sig. codigo nos dará los valores reiterados."
      ]
    },
    {
      "cell_type": "code",
      "metadata": {
        "colab": {
          "base_uri": "https://localhost:8080/"
        },
        "id": "17kNCIUPafr4",
        "outputId": "f687d1df-266d-4ec5-f655-7411b2ab6b8e"
      },
      "source": [
        "import numpy as np\n",
        "\n",
        "def g(x):\n",
        "  return np.cos(x)+1\n",
        "\n",
        "x0 = 1.374\n",
        "for i in range(2,15):\n",
        "  x1 = np.cos(x0)+1\n",
        "  x0 = x1\n",
        "  print(i,x1)"
      ],
      "execution_count": null,
      "outputs": [
        {
          "output_type": "stream",
          "name": "stdout",
          "text": [
            "2 1.1955285036086822\n",
            "3 1.366521727462937\n",
            "4 1.2028568949157001\n",
            "5 1.3596935416193299\n",
            "6 1.209538330863799\n",
            "7 1.3534513086142463\n",
            "8 1.2156378669972474\n",
            "9 1.347738940144136\n",
            "10 1.2212122943043098\n",
            "11 1.3425070292733194\n",
            "12 1.2263115372441504\n",
            "13 1.3377117804767544\n",
            "14 1.2309797533297495\n"
          ]
        }
      ]
    },
    {
      "cell_type": "markdown",
      "metadata": {
        "id": "B6QHwZAgcawO"
      },
      "source": [
        "Lo cual parece que converge al mismo punto que en e metodo de biseccion,\n",
        "\n",
        "\n",
        "Dado un problema $f(x)=0$, puede haber multiples manera de reformular la ecuacion de punto fijo. Por ejemplo, en el ejemplo anterior podriamos definir $g(x)$ como $g(x)=\\arccos (x+1)$. Usanod el valor inicial $x_0$ anteriormente definido, despues de unas cuantas iteraciones, obetenemos los valores que no convergen a ningun lado.\n",
        "\n",
        "\n",
        "Notemos que la función convergerá alguna solucion si $|g'(x)|<1$ atraves del inrervalo que contiene la solución. Veremos en el siguiente teorema que solo necesitamos la priemra derivada.\n",
        "\n",
        "**Teorema 13.** Supongamos que $g$ es diferenciable  en $[a,b]$ y que \n",
        "\n",
        "1.   $g([a,b])\\subset[a,b]$.(Esto es que, $g(x)\\in [a,b]$, para toda $x\\in[a,b]$).\n",
        "2.   $\\left| g'(x) \\right|\\leq K < 1$ para toda $x\\in [a,b]$\n",
        "\n",
        "entonces la ecuación $x=g(x)$ tiene una solución única en el intervalo $[a,b]$ y las secuencias definidas por \n",
        "\n",
        "$$x_0\\in [a,b];\\hspace{1cm}x_n= g(x_{n-1}), \\hspace{0.5cm}n=1,2,...$$\n",
        "converge hacia su solución."
      ]
    },
    {
      "cell_type": "markdown",
      "metadata": {
        "id": "2GCAfxcSiL3p"
      },
      "source": [
        "_Ejemplo 5._ Consideremos la ecuación $e^x-5x+2=0$, de la cual ya sabemos que posee una raiz en el intervalo $[2,3]$. Existen tres posibles reorganizaciones para $x$, estas son \n",
        "\n",
        "$$\n",
        "g_1(x)=x=\\frac{e^x+2}{5},\\\\\n",
        "g_2(x)=x=e^x-4x+2,\\\\\n",
        "g_3(x)=x=\\log (5x-2).\n",
        "$$\n",
        "En cada caso usaremos el valor inical $x_1=2.2$.\n"
      ]
    },
    {
      "cell_type": "code",
      "metadata": {
        "colab": {
          "base_uri": "https://localhost:8080/"
        },
        "id": "ycgT-wPujsY6",
        "outputId": "e568eddd-f250-4565-edcd-074754b2b619"
      },
      "source": [
        "import pandas as pd\n",
        "\n",
        "v0 = np.zeros(20)\n",
        "v1 = np.zeros(20)\n",
        "v2 = np.zeros(20, dtype=np.float64)\n",
        "v0[0], v1[0], v2[0] = 2.2, 2.2, 2.2\n",
        "for i in range(1,20):\n",
        "  v0[i] = (np.exp(v0[i-1])+2)/5\n",
        "  v1[i] = np.exp(v1[i-1])+2-4*v1[i-1]\n",
        "  v2[i] = (np.log(5*v2[i-1]-2))\n",
        "data = {'Ec(1)':v0, 'Ec(2)':v1, 'Ec(3)':v2}\n",
        "tabla = pd.DataFrame(data)\n",
        "data"
      ],
      "execution_count": null,
      "outputs": [
        {
          "output_type": "stream",
          "name": "stderr",
          "text": [
            "/usr/local/lib/python3.7/dist-packages/ipykernel_launcher.py:9: RuntimeWarning: overflow encountered in exp\n",
            "  if __name__ == '__main__':\n",
            "/usr/local/lib/python3.7/dist-packages/ipykernel_launcher.py:9: RuntimeWarning: invalid value encountered in double_scalars\n",
            "  if __name__ == '__main__':\n",
            "/usr/local/lib/python3.7/dist-packages/ipykernel_launcher.py:8: RuntimeWarning: overflow encountered in exp\n",
            "  \n"
          ]
        },
        {
          "output_type": "execute_result",
          "data": {
            "text/plain": [
              "{'Ec(1)': array([2.20000000e+00, 2.20500270e+00, 2.21405521e+00, 2.23055152e+00,\n",
              "        2.26099931e+00, 2.31853409e+00, 2.43215372e+00, 2.67667447e+00,\n",
              "        3.30733413e+00, 5.86244352e+00, 7.07164385e+01, 1.02988569e+30,\n",
              "                   inf,            inf,            inf,            inf,\n",
              "                   inf,            inf,            inf,            inf]),\n",
              " 'Ec(2)': array([2.20000000e+00, 2.22501350e+00, 2.35355372e+00, 3.10868394e+00,\n",
              "        1.19568206e+01, 1.55830869e+05,            inf,            nan,\n",
              "                   nan,            nan,            nan,            nan,\n",
              "                   nan,            nan,            nan,            nan,\n",
              "                   nan,            nan,            nan,            nan]),\n",
              " 'Ec(3)': array([2.2       , 2.19722458, 2.19568149, 2.19482252, 2.19434405,\n",
              "        2.19407744, 2.19392884, 2.19384601, 2.19379984, 2.1937741 ,\n",
              "        2.19375975, 2.19375175, 2.19374729, 2.1937448 , 2.19374341,\n",
              "        2.19374264, 2.19374221, 2.19374197, 2.19374184, 2.19374176])}"
            ]
          },
          "metadata": {},
          "execution_count": 32
        }
      ]
    },
    {
      "cell_type": "markdown",
      "metadata": {
        "id": "qZM74mxhnC1w"
      },
      "source": [
        "Observemos que en lo dos primeras columnas, no parecen converger a algun dado, mientras qu el tercero parece que converge lentamente. El teorema 13 explica porque.\n",
        "\n",
        "\n",
        "\n",
        "1.   Para la primera ecuacion, $g_1$, obtenemos que $g_1'=e^x/5$ para cada $x>\\log 5 \\approx 1.6.$. EL teorema indica que esta iteracion no deberia de converger para la solución $[2,3]$. Como sea, vemos que 0<$g'(x)$<1 para todo $x<\\log 5$. También, si $0<x<\\log 5<2$, entonces $g(x)\\in (0.06,0.943)$. Se sigue que las coniciones de el teorema se satisface em este intervalo, por lo tantoesta iteración convergerá hacia esta solución. Con $x_1=0.9$, las primeras iteraciones sigue\n",
        "\n",
        "   \n",
        "\n"
      ]
    },
    {
      "cell_type": "code",
      "metadata": {
        "colab": {
          "base_uri": "https://localhost:8080/"
        },
        "id": "UotUzwbOSpBf",
        "outputId": "fd83ae83-d50e-4ac0-fe4b-6698166ba3b2"
      },
      "source": [
        "import numpy as np\n",
        "import matplotlib.pyplot as plt\n",
        "\n",
        "\n",
        "xsol=0.9\n",
        "def h(x):\n",
        "  return (np.exp(x)+2)/5\n",
        "\n",
        "vsol = np.zeros(20)\n",
        "vsol[0] = xsol\n",
        "for i in range(1,20):\n",
        "  vsol[i] = h(vsol[i-1])\n",
        "print(vsol[19], h(vsol[19])-vsol[19])"
      ],
      "execution_count": null,
      "outputs": [
        {
          "output_type": "stream",
          "name": "stdout",
          "text": [
            "0.8842181555756256 -8.572113685545446e-09\n"
          ]
        }
      ]
    },
    {
      "cell_type": "markdown",
      "metadata": {
        "id": "zDGTSlc4VgUd"
      },
      "source": [
        "Claramente, la solucion converge. La cual claramente, se ve que da una muy buena aproximado.\n",
        "\n",
        "2. En este modo, $g(x)=e^x-4x+2$, así que $g'(x)=e^x-4$. ESto significa que $g'(x)$ para cada $x>\\log 5$, y la expectación es que no converga en la solución en el intervalo $[2,3].$ Desafortunadamente, para esta reorganizacion podemos vereficar que la condicion del teroema 1 del teorema 13 no se satisface en ninguno. \n",
        "\n",
        "3. Usando el tercer arreglo, $g(x)=\\log (5x-2)$, obtenemos que $g'(x)=\\frac{5}{5x-2}$ el cual falla en entre 0.3846 y $0.6250$ para $x\\in [2,3]$. Se sigue que $g$ incrementa, y por tanto, $g(2)=2.0794$, $g(3)=2.5649$ se sigue que las condiciones del teorema se satisfacen y la convergencia está garantizada por el teorema 13 para cualquier punto  $x\\in[2,3]$."
      ]
    },
    {
      "cell_type": "markdown",
      "metadata": {
        "id": "UvvEfpj6LzG0"
      },
      "source": [
        "# $\\blacksquare$ Método de Newton.\n",
        "\n",
        "EL metodo de newton es uno de los más ampliamente usados para resikver sistemas no lineales y este metodo puede ser derivado de ideas basicas del calculo de una variable y de la noción de aproximar una funcion no linear con una funcion lineal. Es más, la convergencia de un metodo iterativo en el ejemplo 5 es ampliado que rapido converge fue cuando $g'(s)=0$.\n",
        "\n",
        "\n",
        "ESta es la motivacion detras del metodo de Newton, o del metodo de Newton-Raphson. La iteracion puede ser derivada en terminos del polinomio de primer grado del la aproximacion de Taylor, pero esencialmente un modelo local lineal usa la simple linea tangente a $f(x)$ esta debajo de esta idea.\n",
        "\n",
        "\n",
        "Para ver esto, consideremos el problema original, no lineal $f(x)=0$. La primera expancion de Taylor de $f$ sobre el punto $x_0$ es\n",
        "\n",
        "$$f(x)\\approx f(x_0)+(x-x_0)f'(x_0)$$\n",
        "\n",
        "la cual se parece mucho a la ecuacion de la linea tangente en el punto $x_0$ de $f(x)$. Si el punto $x_0$ es cerca a la solucion requerida $s$, entonces podemos esperar que estableciendo el lado derecho deberia de darnos una buena aproximacion a esta solución. Resolvemos $f(x_0)+(x-x_0)f'(x_0)=0$ (lo cuales es equivalente a encontrar en donde la linea tangente cruza el eje $x$) nos provee una expresión para nuestra siguiente aproximación\n",
        "\n",
        "$$x_1 =x_0 - \\frac{f(x_0)}{f'(x_0)}$$\n",
        "\n",
        "Este proceso podria ser repetido para generar una secuencia de lineas tengentes, y las raices de esas rectas tangentes para generar la forma de la formula de _iteracion de newton_\n",
        "\n",
        "$$x_{n+1}=x_n-\\frac{f(x_n)}{f'(x_n)}\\hspace{.5cm}(n=0,1,2,...)$$\n",
        "\n",
        "El metodo de Newton por lo tanto usa la funcion de iteracion \n",
        "\n",
        "$$g(x)=x-\\frac{f(x)}{f'(x)}$$\n",
        "\n",
        "cuya derivada esta dada por\n",
        "\n",
        "$$g'(x)=1-\\frac{f(x)}{f(x)}+\\frac{f(x)f''(x)}{[f'(x)]²}=\\frac{f(x)f''(x)}{f'(x_0)}$$\n",
        "\n",
        "desde que $f(s)=0$, se sigue que $g'(s)=0$ como se requeria, lo cual significa que el metodo de Newton convergerá cuadraticamente cuando este converga."
      ]
    },
    {
      "cell_type": "markdown",
      "metadata": {
        "id": "qHSd2XpaT-OC"
      },
      "source": [
        "_Ejemplo 6_. Encuentre la raiz positiva de un numero real $c$ por el metodo de Newton.\n",
        "\n",
        "\n",
        "**Solucion**. Para hallar, la raiz de c, el sistema no lineal puede ser puesto como\n",
        "$$x²+c=0$$\n",
        "entonces, la iteracion de Newton puede ser expresado como \n",
        "\n",
        "$$x_{n+1}=x_n- \\frac{f(x)}{f'(x)}=x_n - \\frac{x²_n-c}{2x_n}=\\frac{x_n+c/x_n}{2}$$\n",
        "\n",
        "para mostrar como las iteraciones progresan, sea $c=3$ y tomemos $x_0=1/2$."
      ]
    },
    {
      "cell_type": "code",
      "metadata": {
        "id": "jLH987yPPWiD",
        "colab": {
          "base_uri": "https://localhost:8080/",
          "height": 156
        },
        "outputId": "b959f013-350f-4f19-b3dd-cc74270d4551"
      },
      "source": [
        "import numpy as np\n",
        "\n",
        "#Programa general para el valor c y el numero de iteraciones.\n",
        "c = int(input('Ingrese la constante positiva: '))\n",
        "numiter = int(input('Ingrese el numero de iteraciones: '))\n",
        "values = np.zeros(numiter)\n",
        "valerror = np.zeros(numiter)\n",
        "values[0] = 0.5\n",
        "for i in range(1,numiter):\n",
        "  values[i] = 0.5*(values[i-1]+(c/values[i-1]))\n",
        "  valerror[i] = np.abs(values[i]-values[i-1])\n",
        "print(values)\n",
        "print('Los errores son',valerror)\n",
        "input('Toque alguna tecla para terminar.')"
      ],
      "execution_count": null,
      "outputs": [
        {
          "name": "stdout",
          "output_type": "stream",
          "text": [
            "Ingrese la constante positiva: 3\n",
            "Ingrese el numero de iteraciones: 7\n",
            "[0.5        3.25       2.08653846 1.76216324 1.73230809 1.73205083\n",
            " 1.73205081]\n",
            "Los errores son [0.00000000e+00 2.75000000e+00 1.16346154e+00 3.24375222e-01\n",
            " 2.98551468e-02 2.57266531e-04 1.91062719e-08]\n",
            "Toque alguna tecla para terminar.0\n"
          ]
        },
        {
          "output_type": "execute_result",
          "data": {
            "application/vnd.google.colaboratory.intrinsic+json": {
              "type": "string"
            },
            "text/plain": [
              "'0'"
            ]
          },
          "metadata": {},
          "execution_count": 12
        }
      ]
    },
    {
      "cell_type": "markdown",
      "metadata": {
        "id": "egOf1nCzYUCv"
      },
      "source": [
        "La convergencia cuadratica puede ser observada por nada en el exponente se duplica en cada iteracion.\n",
        "\n",
        "Ahora consideraremos la implementacion del metodo de Newton para resolver $f(x)=0$ en python. Las entradas necesarias para la función, son $f$, su derivada, un valor inicial y la precision deseada. Esto podria necesitar una implementacion más robusta del metodo de Newton. Python y SciPy en particular tiene una rebusta construccion de 'equation solvers'."
      ]
    },
    {
      "cell_type": "code",
      "metadata": {
        "id": "4uAwgbOBaanb"
      },
      "source": [
        "def newton(fcn, df, g, tol=1e-9):\n",
        "  '''Resuelve la ecuacion fcn(x)=0 para la presición 'tol'\n",
        "  usando el metodo de newton. Usando el valor inicial 'g'. \n",
        "  'fcn' y 'df' deben de ser funciones, y df debe de ser la derivada\n",
        "  de 'fcn'.'''\n",
        "\n",
        "  val = []\n",
        "  old = g+1\n",
        "  while np.abs(g-old)>tol:\n",
        "    old = g\n",
        "    g = old - fcn(old)/df(old)\n",
        "    val.append(g)\n",
        "  sol = g\n",
        "  return val\n"
      ],
      "execution_count": null,
      "outputs": []
    },
    {
      "cell_type": "markdown",
      "metadata": {
        "id": "mXatHiyhb47z"
      },
      "source": [
        "_Ejemplo 7._ Resuelva la ecuacion $e^x-5x+2=0$ usando el metodo de Newton.\n",
        "\n",
        "**Solucion**. Sabiamos que una solución se encuentra en [2,3] así que tomemos como valor inicial 2.5. Así\n"
      ]
    },
    {
      "cell_type": "code",
      "metadata": {
        "colab": {
          "base_uri": "https://localhost:8080/"
        },
        "id": "uK4vx_pdWXSa",
        "outputId": "95ecb4a4-5cb0-4f6b-a888-aa4a9b10b9b9"
      },
      "source": [
        "def eq(x): #FUNCION DADA\n",
        "  return np.exp(x)-5*x+2\n",
        "\n",
        "def deq(x): #DERIVADA DE LA FUNCON EQ\n",
        "  return np.exp(x)-5\n",
        "\n",
        "sol = newton(eq, deq, 2.5, 1e-10)\n",
        "sol"
      ],
      "execution_count": null,
      "outputs": [
        {
          "output_type": "execute_result",
          "data": {
            "text/plain": [
              "[2.2657507308869795,\n",
              " 2.1990020960841123,\n",
              " 2.1937726756131535,\n",
              " 2.193741668931969,\n",
              " 2.193741667845617,\n",
              " 2.1937416678456176]"
            ]
          },
          "metadata": {},
          "execution_count": 21
        }
      ]
    },
    {
      "cell_type": "markdown",
      "metadata": {
        "id": "WKqFG3omeGM-"
      },
      "source": [
        "Mirando las iteraciones en general, es claro que existen varias cosas que pueden ir mal en la iteracion de Newton. La ec(1) significa que si $f'(x_n)$ es pequeño, entonces la correcion hecha en la iteracion $x_n$ será largo, i.e, si la derivada de $f$ es cero (o muy pequeño) cerca de la solucion, entonces el metodo de Newton podría no converger.\n",
        "\n",
        "Tal situacion puede incrementarse si hay dos soluciones muy cerca juntas.\n",
        "\n",
        "\n",
        "_Ejemplo 8._ Consideremos la ecuacion $\\tan^{-1} (x-1)=0.5$ la cual tiene una unica solucion en $x=1.5463$ para cuatro decimales.\n",
        "\n",
        "**Solución**. La funcion $f(x)=\\tan^{-1} (x-1)-0.5$ es graficada abajo. Si iniciamos el metodo de Neweton en $x_0=4.2$. observaremos que no converge el método."
      ]
    },
    {
      "cell_type": "code",
      "metadata": {
        "colab": {
          "base_uri": "https://localhost:8080/",
          "height": 580
        },
        "id": "ZRM8HZtVg4C8",
        "outputId": "637518a8-35b4-4828-baf9-fd05872e7496"
      },
      "source": [
        "import matplotlib.pyplot as plt\n",
        "\n",
        "def eq2(x):\n",
        "  return np.arctan(x-1)-0.5\n",
        "\n",
        "def deq2(x):\n",
        "  return 1/(x**2-2*x+2)\n",
        "\n",
        "dom = np.linspace(-6,10,75)\n",
        "plt.plot(dom,eq2(dom))\n",
        "plt.plot(4.2,eq2(4.2), 'go')\n",
        "plt.show()\n",
        "sol = newton(eq2,deq2,4.2)\n",
        "sol"
      ],
      "execution_count": null,
      "outputs": [
        {
          "output_type": "display_data",
          "data": {
            "image/png": "[encoded data removed]",
            "text/plain": [
              "<Figure size 432x288 with 1 Axes>"
            ]
          },
          "metadata": {
            "needs_background": "light"
          }
        },
        {
          "output_type": "stream",
          "name": "stderr",
          "text": [
            "/usr/local/lib/python3.7/dist-packages/ipykernel_launcher.py:7: RuntimeWarning: overflow encountered in double_scalars\n",
            "  import sys\n",
            "/usr/local/lib/python3.7/dist-packages/ipykernel_launcher.py:11: RuntimeWarning: divide by zero encountered in double_scalars\n",
            "  # This is added back by InteractiveShellApp.init_path()\n",
            "/usr/local/lib/python3.7/dist-packages/ipykernel_launcher.py:7: RuntimeWarning: invalid value encountered in double_scalars\n",
            "  import sys\n"
          ]
        },
        {
          "output_type": "execute_result",
          "data": {
            "text/plain": [
              "[-4.431324792639958,\n",
              " 53.173241611359224,\n",
              " -2810.4696152291754,\n",
              " 16362702.678634763,\n",
              " -286692840882641.75,\n",
              " 1.702045172947086e+29,\n",
              " -3.1020517398016827e+58,\n",
              " 1.9926703576316317e+117,\n",
              " -4.251848617775354e+234,\n",
              " inf,\n",
              " nan]"
            ]
          },
          "metadata": {},
          "execution_count": 23
        }
      ]
    },
    {
      "cell_type": "markdown",
      "metadata": {
        "id": "lFRHG5m7iwbs"
      },
      "source": [
        "Sin embargo, esta ecuacion en particular puede ser resuelta facilmente si rescribimos como $x=1+\\tan(0.5)=1.5463025$ para obtener la solucion. Este reordenamiento trasnforma el problema original de una ecuacion a reslver a una ecuacion a evualar, la cual todavia es un problema computacionalmente.\n",
        "\n",
        "El siguinte teorema explica las condiciones bajo las cuuales podemos esperar que el metodo de Newton converga. El teorema de convergencia global, tiene como hipotesis las cuales eliminan las posibilidades de cualquier punto de inflexicion cerca de la solucion\n",
        "\n",
        "**Teorema 14** Sea $f$ doblemente derivable sobre un intervalo [a,b] y satisface las condiciones\n",
        "\n",
        "1.   $f(a)f(b)<0$\n",
        "2.   $f'$ no tiene ceros en [a,b]\n",
        "3.   $f''$ no cambia de signo en el intervalo [a,b] y\n",
        "4.   $\\left| \\frac{f(a)}{f'(a)} \\right|*\\left|\\frac{f(b)}{f'(b)}\\right|<b-a$\n",
        "\n",
        "entonces $f(x)=0$ tiene una solucion unica en $s\\in (a,b)$ y la iteracion de Newton convergera a $s$ para cualquier punto de inicio en el intervalo [a,b].\n"
      ]
    },
    {
      "cell_type": "code",
      "metadata": {
        "colab": {
          "base_uri": "https://localhost:8080/"
        },
        "id": "izffW_BRmCkZ",
        "outputId": "25f2a2c4-1e5e-4613-852c-9165453231d8"
      },
      "source": [
        "#Ejercicio 2. Use el metodo de newton para obtener\n",
        "#la solucion de la ecuacion e^x-3x-1=0 en el intervalo [1,3] usando la \n",
        "#tolerancia 10^-10.\n",
        "\n",
        "def eq4(x):\n",
        "  return np.exp(x)-3*x-1\n",
        "\n",
        "def deq4(x):\n",
        "  return np.exp(x)-3\n",
        "\n",
        "sol = newton(eq4,deq4,2,1e-11)\n",
        "sol"
      ],
      "execution_count": null,
      "outputs": [
        {
          "output_type": "execute_result",
          "data": {
            "text/plain": [
              "[1.9113576837112107,\n",
              " 1.9038647124588381,\n",
              " 1.9038136967936172,\n",
              " 1.9038136944403836,\n",
              " 1.9038136944403834]"
            ]
          },
          "metadata": {},
          "execution_count": 25
        }
      ]
    },
    {
      "cell_type": "markdown",
      "metadata": {
        "id": "zXUip8LJFpRx"
      },
      "source": [
        "#$\\blacksquare$ El metood de la secante.\n",
        "\n",
        "\n",
        "En la seccion previa, hemos visto que el metodo de newton es una herramienta poderosa para resolver estas ecuaciones, obteniendo soluciones de precisiones que convergen en condiciones apropiadas. Uno de los retos de la implementacion del metodo de newton es que requerimos la derivada de la función. En muchas aplicaciones del mundo real, la derivada puede que no este definida si por ejemplo, la funcion en si misma es el resultado de algun calculo. Un ejemplo importante de esto es mostrar metodos para soluciones de ecuaciones diferenciales. El metodo de la secante es un acercamiento a recubrir algo del poder del metodo de Newton sin usar ningun tipo de informacion sobre las derivadas.\n",
        "\n",
        "\n",
        "EL metodo de Newton fue descrito por la idea de que la siguiente iteracion es el punto donde la linea tangente corta al eje x (es decir, es 0). El metodo de la secante isa el punto donde la secante, o la cuerda, que une los dos puntos previos de las dos iteraciones que cruzan el eje x\n",
        "\n",
        "\n",
        "Para definir la iteracion, consideremos la ecuacion de la linea tangente que une los dos puntos de la curva $y=f(x)$ en $x=x_0$, $x_1$. La pendiente es $\\frac{f(x_1)-f(x_0)}{(x_1-x_0)}$ y así la ecuacion de la linea secante es \n",
        "\n",
        "$$y-f(x_1)=\\frac{f(x_1)-f(x_0)}{(x_1-x_0)}(x-x_1)$$\n",
        "\n",
        "tomando $y=0$ en la ec. anterior y retomando que la solucion $x_2$ nos da la siguiente iteracion \n",
        "$$x_2=x_1-\\frac{x_1-x_0}{f(x_1)-f(x_0)}f(x_1)$$\n",
        "\n",
        "por tanto, la expresion para la linea tangente iterada es\n",
        "\n",
        "$$x_{n+1}=x_n-\\frac{x_{n}-x_{n+1}}{f(x_n)-f(x_{n+1})}f(x_1)$$\n",
        "\n",
        "Notemos que es lo mismo que la ecuacion iterada de la linea tangente del metodo de newton si llevamos la pendiente a 0.\n",
        "\n",
        "El metodo de la secante aparece que converge rapido pero podemos cuantificar la tasa de rapides de convergencia de manera más precisa. Hay teoremas de convergencia para este metodo similares a los del metodo de Newton, pero estos caen fuera de nuestro estudio. La conclusion principal es que cuando el metodo de la secante converge, lo hace a una tasa super lineal. Especificamente si $e_n$ es el error $x_n-s$, entonces la secuencia de errores satisfacen \n",
        "\n",
        "$$e_{n+1}\\approx ce^{\\alpha}_{n}$$"
      ]
    },
    {
      "cell_type": "code",
      "metadata": {
        "colab": {
          "base_uri": "https://localhost:8080/"
        },
        "id": "34esAj5_PFOw",
        "outputId": "ad0fb9cb-bd41-452c-9b20-4206f03c8d14"
      },
      "source": [
        "import numpy as np\n",
        "\n",
        "x = 0.5*(1+np.sqrt(5))\n",
        "x"
      ],
      "execution_count": null,
      "outputs": [
        {
          "output_type": "execute_result",
          "data": {
            "text/plain": [
              "1.618033988749895"
            ]
          },
          "metadata": {},
          "execution_count": 1
        }
      ]
    },
    {
      "cell_type": "markdown",
      "metadata": {
        "id": "nZpW5G-_PMgB"
      },
      "source": [
        "donde $\\alpha=(1+\\sqrt 5)/2\\approx 1.618033988749895$. Esto puede ser interpretado como que el numero de decimales correctos se incrementa un 60% en cada iteracion, comparado al metodo Newton el cual el numero de decimales correctos se duplican cada iteracion."
      ]
    },
    {
      "cell_type": "markdown",
      "metadata": {
        "id": "1NdYQ2u7QGM_"
      },
      "source": [
        "_Ejemplo 10_. El metodo de la secante puede ser usado para calcular raices cuadradas. SI $f(x)=x²+c$ entonces la iteracion de la linea secante se convierte en\n",
        "\n",
        "$$x_{n+1}=x_n-(x_n^2 - c)\\frac{x_n - x_{n-1}}{x_n^2 - x_{n-1}^2}=\\frac{x_n x_{n-1}+c}{x_n + x_{n-1}}.$$\n",
        "\n",
        "retomemos, de la iteracion de newton tenemos \n",
        "\n",
        "$$x_{n+1}=\\frac{x_n x_n + c}{x_n + x_n}$$\n",
        "\n",
        "los cuales son similares, especialmente cuando la iteracion esta cerca a la solucion.\n",
        "\n",
        "Para $c=3$, con el punto inicial es sugerido, $x_0=1/2$, $x_1=3/4$, entonces las siguientes iteraciones son"
      ]
    },
    {
      "cell_type": "code",
      "metadata": {
        "id": "5GCnsNm-QC0r"
      },
      "source": [
        "def secc_tol(fcn, x0, x1, tol=1e-9):\n",
        "  '''Resuelve la ecuacion fcn(x)=0 para la presición 'tol'\n",
        "  usando el metodo de la secante. Usando el valor inicial 'x0' y 'x1'. \n",
        "  'fcn' deben de ser funcion.'''\n",
        "  val = [x0,x1]\n",
        "  n=2\n",
        "  while np.abs(val[n-2]-val[n-1])>tol:\n",
        "    m = (val[n-1]-val[n-2])/(fcn(val[n-1])-fcn(val[n-2]))\n",
        "    g = val[n-1] - m*(fcn(val[n-1]))\n",
        "    val.append(g)\n",
        "    n = n + 1\n",
        "  number_of_iters = n-2\n",
        "  return val, number_of_iters\n",
        "\n",
        "\n",
        "def secc_numiters(fcn, x0, x1, number_of_iterations):\n",
        "  '''Resuelve la ecuacion fcn(x)=0 para el numero de iteraciones 'number_of_iterations'\n",
        "  usando el metodo de la secante. Usando el valor inicial 'x0' y 'x1'. \n",
        "  'fcn' deben de ser funcion.'''\n",
        "  val = [x0,x1]\n",
        "  for n in range(2,number_of_iterations):\n",
        "    m = (val[n-1]-val[n-2])/(fcn(val[n-1])-fcn(val[n-2]))\n",
        "    g = val[n-1] - m*(fcn(val[n-1]))\n",
        "    val.append(g)\n",
        "  return val"
      ],
      "execution_count": null,
      "outputs": []
    },
    {
      "cell_type": "code",
      "metadata": {
        "colab": {
          "base_uri": "https://localhost:8080/"
        },
        "id": "g2ibPQLJeMGH",
        "outputId": "37851dda-1021-40f9-b0c1-ccb308516971"
      },
      "source": [
        "def eq3(x):\n",
        "  return x**2 - 3\n",
        "\n",
        "\n",
        "sol, iters = secc_tol(eq3, 0.5, 0.75, 1e-10)\n",
        "sol[-1], iters"
      ],
      "execution_count": null,
      "outputs": [
        {
          "output_type": "execute_result",
          "data": {
            "text/plain": [
              "(1.7320508075688774, 8)"
            ]
          },
          "metadata": {},
          "execution_count": 25
        }
      ]
    },
    {
      "cell_type": "markdown",
      "metadata": {
        "id": "9pd4XGxphPVI"
      },
      "source": [
        "Ocho iteraciones aproximan a 10 decimales. Así que veemos que rapidamente converge sin usar ningun tipo de información sobre la derivada."
      ]
    },
    {
      "cell_type": "code",
      "metadata": {
        "colab": {
          "base_uri": "https://localhost:8080/"
        },
        "id": "SJdbsjdEiNbs",
        "outputId": "f5657983-e7c5-4506-e669-75c20f4fda73"
      },
      "source": [
        "#Ejercicios\n",
        "#La ecuacion 3x**3 - 5x**2 - 4x + 4 tiene una solucion cerca de x=0.7. Calcule \n",
        "#las primeras cuatro iteraciones del metodo de bisecciones para obtener una\n",
        "#solucion.\n",
        "\n",
        "def eq3(x):\n",
        "  return (3*x** - 5*x**2 - 4*x + 4)\n",
        "\n",
        "sol = secc_numiters(eq3, 0.5, 1, 10)\n",
        "sol[-1]\n"
      ],
      "execution_count": null,
      "outputs": [
        {
          "output_type": "execute_result",
          "data": {
            "text/plain": [
              "1.323506507162583"
            ]
          },
          "metadata": {},
          "execution_count": 33
        }
      ]
    },
    {
      "cell_type": "markdown",
      "metadata": {
        "id": "-_s83uC2lIoE"
      },
      "source": [
        "\n",
        "\n",
        "---\n",
        "\n",
        "\n",
        "---\n",
        "\n",
        "#$$\\blacksquare \\text{Metodo de Newton en dimensiones mayores.}$$\n"
      ]
    },
    {
      "cell_type": "markdown",
      "metadata": {
        "id": "YykXIAQclb51"
      },
      "source": [
        "El tema central de esta seccion es reslver el sistema de ecuaciones no lineales de la forma \n",
        "\n",
        "\n",
        "$$\\textbf{f(x)=0}$$\n",
        "\n",
        "donde $\\textbf{f}$ es un vector funcion del vector de la variable $\\textbf{x}$. Despues, proveemos detalles sobre el caso de dos variables, pero empezamos con el caso mas general en el caso de _n_ ecuaciones con _n_ incognitas.\n",
        "Mirando mas de cerca la ecuacion anterior, tenemos\n",
        "\n",
        "$$\\textbf{f(x)}=\\begin{bmatrix} \n",
        "f_1 (x_1,x_2,...,x_n) \\\\ \n",
        "f_2 (x_1,x_2,...,x_n) \\\\ \n",
        "\\vdots \\\\\n",
        "f_n (x_1,x_2,...,x_n) \\\\ \n",
        "\\end{bmatrix}=\n",
        "\\begin{bmatrix} \n",
        "0 \\\\ \n",
        "0 \\\\ \n",
        "\\vdots \\\\\n",
        "0 \\\\ \n",
        "\\end{bmatrix}=0\n",
        "$$"
      ]
    },
    {
      "cell_type": "markdown",
      "metadata": {
        "id": "TI12l6_rohjI"
      },
      "source": [
        "Así que el problema es ahora encontrar el vector _n_-dimensional $\\textbf{x=}\\left[ x_1,x_2,...,x_n\\right]^T$ que satisface simultaneamente las ecuaciones $f_i(\\textbf{x})=0$ para $i=1,2,...,n$.\n",
        "\n",
        "##▶ Método de Newton: Para dos ecuaciones con dos incognitas.\n",
        "\n",
        "El caso para $n=2$ es mucho mas manejable, es mucho mas facil obtener una formula directa para la linea tngente iterativa sin tener que resolver un sistema lineal de ecuaciones en cada iteracion.\n",
        "\n",
        "Para dos ecuaciones, el problema puede ser expresado como\n",
        "\n",
        "$$f_1 (x,y)=0,\\\\ f_2(x,y)=0.$$\n",
        "\n",
        "La primera expansion de Taylor de esas funciones es\n",
        "\n",
        "$$f_1 (x+h,y+k)\\approx f_1(x,y)+hf_{1x}(x,y)+kf_{1y}(x,y),\\\\\n",
        "f_2 (x+h,y+k)\\approx f_2(x,y)+hf_{2x}(x,y)+kf_{2y}(x,y)\n",
        ".$$\n",
        "\n",
        "igualando ambos lados igual a cero, y despejando $h$ y $k$.\n",
        "\n",
        "$$h=\\frac{-f_1 f_{2y}+f_2 f_{1y}}{f_{1x}f_{2y}-f_{1y}f_{2x}}\\\\\n",
        "k=\\frac{-f_1 f_{2x}- f_2 f_{1x}}{f_{1x}f_{2y}-f_{1y}f_{2x}}\n",
        "$$\n",
        "\n",
        "donde todas las funciones estan evaluadas en $(x,y)$.\n",
        "\n",
        "La iteracion de Newton para el par de ecuaciones en dos variables es por lo tanto $$x_{n+1}=x_n +h, \\hspace{1cm} y_{n+1}=y_n + k$$\n",
        "donde $(h,k)$ estan dadas anteriormente en $(x_n, y_n)$."
      ]
    },
    {
      "cell_type": "markdown",
      "metadata": {
        "id": "hILihASj1KeO"
      },
      "source": [
        "_Ejemplo 12_. Encuentre las coordenadas de las intersecciones en el primer cuadrante de la elipse $4x²+y²=4$ y las curvas $x²y³=1$. Usando el metodo de Newton para dos variables.\n",
        "\n",
        "**Solucion**. Una solucion esta cerca de (0.4,1.8) y usaremos ese punto como punto inicial para la iteracion. Las derivadas parciales de las funciones $f_1(x,y)=4x²+y²-4$ y $f_2(x,y)=x²y³-1$ son\n",
        "\n",
        "$$f_{1x}(x,y)=8x,\\hspace{1cm} f_{1y}(x,y)=2y \\\\\n",
        "f_{2x}(x,y)=2xy³,\\hspace{1cm} f_{1y}(x,y)=3x²y² \\\\\n",
        "$$\n",
        "\n",
        "en el punto $x_0=(0.4,1.8)$, tenemos que $f_1(x_0)=-0.12$ y $f_2(x_0)=-0.06688$. Y $f_{1x}(x_0)=3.2$, $f_{1y}(x_0)=3.6$, $f_{2x}(x_0)=4.6656$ y $f_{2y}(x_0)=1.5552$. Por tanto, $f_{1x}f_{2y}-f_{1y}f_{2x}=(3.2)(1.552)-(3.6)(4.6656)=-11.81952$. Ahora aplicando la formula de $h$ y $k$, obtenemos\n",
        "\n",
        "$$h=\\frac{-(-0.12)(1.5552)-(-0.06688)(3.6)}{-11.81952}=4.35808967\\times 10³ \\\\\n",
        "k=\\frac{(-0.12)(4.6656)-(-0.06688)(3.2)}{-11.81952}=2.9261425\\times 10²\n",
        "$$\n",
        "\n",
        "así, \n",
        "\n",
        "$$x_1 = 0.4 + 4.35808967\\times 10³=0.4045809$$\n",
        "$$y_1 = 1.8 + 2.9261425\\times 10² = 1.8292614$$\n",
        "\n",
        "las iteraciones subsecuentes son mas complicadas de calcular. Para ello, hacemos el codigo que nos perimita calcular esos puntos."
      ]
    },
    {
      "cell_type": "code",
      "metadata": {
        "id": "YxfrA3nI53UV"
      },
      "source": [
        "def newton_d2(fcn, jac, g, tol=1e-8):\n",
        "  '''Resuelve las dos ecuaciones dadas por fcn(x)=0 a una precision 'tol'\n",
        "  usando el metodo de newton para dos variables y dos funciones. Usando a 'g'\n",
        "  como punto inicial. 'fcn' y 'jac' debe de ser funciones donde existen sus\n",
        "  derivadas parciales.'''\n",
        "\n",
        "  old = np.zeros_like(g)\n",
        "  old[0] = g[0] + 1\n",
        "  n = 0\n",
        "  while max(abs(g-old))>tol:\n",
        "    n = n + 1\n",
        "    old = g\n",
        "    f = fcn(old)\n",
        "    f1 = f[0]\n",
        "    f2 = f[1]\n",
        "    J = jac(old)\n",
        "    f1x = J[0,0]\n",
        "    f1y = J[0,1]\n",
        "    f2x = J[1,0]\n",
        "    f2y = J[1,1]\n",
        "    D = f1x*f2y - f1y*f2x\n",
        "    h = (f2*f1y - f1*f2y)/D\n",
        "    k = (f1 * f2x - f2 * f1x)/D\n",
        "    g = old + np.array([h,k])\n",
        "    if n > 100000 :\n",
        "      break\n",
        "  if n < 100000:\n",
        "    return g\n",
        "  if n > 100000:\n",
        "    return 'No converge'\n"
      ],
      "execution_count": null,
      "outputs": []
    },
    {
      "cell_type": "code",
      "metadata": {
        "id": "vc9goal-8FBT"
      },
      "source": [
        "def Veq1(v):\n",
        "  ''' La funcion como entrada 'v' y la salida es un vector en R2'''\n",
        "  x,y = v\n",
        "  f = np.empty(2)\n",
        "  f[0] = 4*x**2+y**2-4\n",
        "  f[1] = x**2 * y**3 - 1\n",
        "  return f\n",
        "\n",
        "def JVeq1(v):\n",
        "  ''' El jacobiano de las funciones Veq1'''\n",
        "  x,y = v\n",
        "  J = np.empty((2,2))\n",
        "  J[0,0] = 8 * x\n",
        "  J[0,1] = 2 * y\n",
        "  J[1,0] = 2 * x * y**3\n",
        "  J[1,1] = 3 * x**2 * x**2\n",
        "  return J\n"
      ],
      "execution_count": null,
      "outputs": []
    },
    {
      "cell_type": "code",
      "metadata": {
        "colab": {
          "base_uri": "https://localhost:8080/",
          "height": 35
        },
        "id": "dxcdVOb899yD",
        "outputId": "ec1ee5ab-7960-4b5b-b10d-bbf02dd80552"
      },
      "source": [
        "s = newton_d2(Veq1,JVeq1,[0.8,1.2],0.5e-4)\n",
        "s"
      ],
      "execution_count": null,
      "outputs": [
        {
          "output_type": "execute_result",
          "data": {
            "application/vnd.google.colaboratory.intrinsic+json": {
              "type": "string"
            },
            "text/plain": [
              "'No converge'"
            ]
          },
          "metadata": {},
          "execution_count": 55
        }
      ]
    },
    {
      "cell_type": "code",
      "metadata": {
        "colab": {
          "base_uri": "https://localhost:8080/"
        },
        "id": "MhJ92cYeyYCq",
        "outputId": "9f32949b-8422-4074-b610-b267e5b4b36b"
      },
      "source": [
        "import numpy as np\n",
        "\n",
        "n = 10\n",
        "d = np.eye((n))*4\n",
        "d_p1 = -1*np.eye(n,k=1) \n",
        "d_l1 = -1*np.eye(n,k=-1)\n",
        "matrix = d+d_p1+d_l1 \n",
        "b = np.array([9,5,5,5,5,5,5,5,5,5])"
      ],
      "execution_count": null,
      "outputs": [
        {
          "output_type": "execute_result",
          "data": {
            "text/plain": [
              "array([[ 4., -1.,  0.,  0.,  0.,  0.,  0.,  0.,  0.,  0.],\n",
              "       [-1.,  4., -1.,  0.,  0.,  0.,  0.,  0.,  0.,  0.],\n",
              "       [ 0., -1.,  4., -1.,  0.,  0.,  0.,  0.,  0.,  0.],\n",
              "       [ 0.,  0., -1.,  4., -1.,  0.,  0.,  0.,  0.,  0.],\n",
              "       [ 0.,  0.,  0., -1.,  4., -1.,  0.,  0.,  0.,  0.],\n",
              "       [ 0.,  0.,  0.,  0., -1.,  4., -1.,  0.,  0.,  0.],\n",
              "       [ 0.,  0.,  0.,  0.,  0., -1.,  4., -1.,  0.,  0.],\n",
              "       [ 0.,  0.,  0.,  0.,  0.,  0., -1.,  4., -1.,  0.],\n",
              "       [ 0.,  0.,  0.,  0.,  0.,  0.,  0., -1.,  4., -1.],\n",
              "       [ 0.,  0.,  0.,  0.,  0.,  0.,  0.,  0., -1.,  4.]])"
            ]
          },
          "metadata": {},
          "execution_count": 3
        }
      ]
    },
    {
      "cell_type": "markdown",
      "metadata": {
        "id": "1gsa9adWUXC0"
      },
      "source": [
        ""
      ]
    }
  ]
}